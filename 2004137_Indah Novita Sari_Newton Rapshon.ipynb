{
  "nbformat": 4,
  "nbformat_minor": 0,
  "metadata": {
    "colab": {
      "provenance": []
    },
    "kernelspec": {
      "name": "python3",
      "display_name": "Python 3"
    },
    "language_info": {
      "name": "python"
    }
  },
  "cells": [
    {
      "cell_type": "markdown",
      "source": [
        "**Metode Newton Raphson**\n",
        "\n",
        "2004137\n",
        "Indah Novita Sari BR Ginting"
      ],
      "metadata": {
        "id": "yWS3lqz_oAjR"
      }
    },
    {
      "cell_type": "code",
      "execution_count": 1,
      "metadata": {
        "colab": {
          "base_uri": "https://localhost:8080/"
        },
        "id": "Ho0KwjzRn8iV",
        "outputId": "a37e6cb8-daae-4e42-8370-fe19d7fbc3c8"
      },
      "outputs": [
        {
          "output_type": "stream",
          "name": "stdout",
          "text": [
            "Metode Newton Raphson\n",
            "Tebakan Awal: 5\n",
            "Toleransi Error: 0.01\n",
            "Maksimum Iterasi: 5\n",
            "Iterasi ke-1, x1 = 4.125000 dan f(x1) = 0.765625\n",
            "Iterasi ke-2, x1 = 4.002500 dan f(x1) = 0.015006\n",
            "Iterasi ke-3, x1 = 4.000001 dan f(x1) = 0.000006\n",
            "\n",
            "Akar yang dihasilkan adalah : 4.00000104\n"
          ]
        }
      ],
      "source": [
        "#Mendefinisikan fungsi \n",
        "def f(x): \n",
        "    return x**2 - 2*x - 8\n",
        "\n",
        "#Mendefinisikan turunan fungsi f(x)\n",
        "def g(x): \n",
        "    return 2*x - 2\n",
        "\n",
        "#Metode Newton Raphson\n",
        "def newtonRaphson(x0,e,N):\n",
        "    step = 1\n",
        "    flag = 1\n",
        "    condition = True\n",
        "    while condition:\n",
        "        if g(x0) == 0.0: #Nilai turunan f(x) tidak boleh = 0 karena tidak akan bisa melakukan tebakan akar\n",
        "            print('Turunan tidak boleh = 0')\n",
        "            break\n",
        "        \n",
        "        #Teorema Taylor \n",
        "        x1 = x0 - f(x0)/g(x0) \n",
        "        #Mencetak iterasi \n",
        "        print('Iterasi ke-%d, x1 = %0.6f dan f(x1) = %0.6f' % (step, x1, f(x1))) \n",
        "        x0 = x1 \n",
        "        step = step + 1 \n",
        "        \n",
        "        if step > N:\n",
        "            flag = 0\n",
        "            break\n",
        "        \n",
        "        condition = abs(f(x1)) > e\n",
        "    \n",
        "    if flag==1:\n",
        "        print('\\nAkar yang dihasilkan adalah : %0.8f' % x1)\n",
        "    else:\n",
        "        print('\\nTidak Konvergen.')\n",
        "\n",
        "\n",
        "#Input\n",
        "print('Metode Newton Raphson')\n",
        "x0 = input('Tebakan Awal: ')\n",
        "e = input('Toleransi Error: ')\n",
        "N = input('Maksimum Iterasi: ')\n",
        "\n",
        "#Konversi hasil input\n",
        "x0 = float(x0)\n",
        "e = float(e)\n",
        "N = int(N)\n",
        "\n",
        "newtonRaphson(x0,e,N) "
      ]
    }
  ]
}