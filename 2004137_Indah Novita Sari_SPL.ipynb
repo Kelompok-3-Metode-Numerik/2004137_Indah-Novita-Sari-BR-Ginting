{
  "nbformat": 4,
  "nbformat_minor": 0,
  "metadata": {
    "colab": {
      "provenance": []
    },
    "kernelspec": {
      "name": "python3",
      "display_name": "Python 3"
    },
    "language_info": {
      "name": "python"
    }
  },
  "cells": [
    {
      "cell_type": "markdown",
      "source": [
        "**Presentasi Persamaan Linier**"
      ],
      "metadata": {
        "id": "0WGaYMzkaPJQ"
      }
    },
    {
      "cell_type": "markdown",
      "source": [
        "1. Perkalian LU"
      ],
      "metadata": {
        "id": "Q0r3BnmxanrE"
      }
    },
    {
      "cell_type": "code",
      "execution_count": 1,
      "metadata": {
        "colab": {
          "base_uri": "https://localhost:8080/"
        },
        "id": "ydljmVCpaOeC",
        "outputId": "90150000-c47e-4bc0-937a-3ee6d02ee36e"
      },
      "outputs": [
        {
          "output_type": "stream",
          "name": "stdout",
          "text": [
            "LU= [[ 4.  3. -5.]\n",
            " [-2. -4.  5.]\n",
            " [ 8.  8.  0.]]\n"
          ]
        }
      ],
      "source": [
        "import numpy as np\n",
        "u = np.array([[4, 3, -5],\n",
        " [0, -2.5, 2.5],\n",
        " [0, 0, 12]])\n",
        "l = np.array([[1, 0, 0],\n",
        " [-0.5, 1, 0],\n",
        " [2, -0.8, 1]])\n",
        "print(\"LU=\",np.dot(l, u))"
      ]
    },
    {
      "cell_type": "markdown",
      "source": [
        "2. SPL Segitiga Atas"
      ],
      "metadata": {
        "id": "5F7x_uFHavYB"
      }
    },
    {
      "cell_type": "code",
      "source": [
        "import numpy as np\n",
        "A = [[-2, 7, -4], [0, 6, 5], [0, 0, 3]]\n",
        "b = [[14],[5],[-8]]\n",
        "print(A[1][2])"
      ],
      "metadata": {
        "colab": {
          "base_uri": "https://localhost:8080/"
        },
        "id": "64JAmhCkayr_",
        "outputId": "eeb9782c-7ed9-4903-c0b4-d56e9d9776ac"
      },
      "execution_count": 2,
      "outputs": [
        {
          "output_type": "stream",
          "name": "stdout",
          "text": [
            "5\n"
          ]
        }
      ]
    },
    {
      "cell_type": "markdown",
      "source": [
        "3. Metode Gauss"
      ],
      "metadata": {
        "id": "f_b5stuDa1FV"
      }
    },
    {
      "cell_type": "code",
      "source": [
        "import numpy as np\n",
        "import sys\n",
        " \n",
        "n = int(input('Input jumlah variabel: '))\n",
        "a = np.zeros((n,n+1))\n",
        "x = np.zeros(n)\n",
        "print('Input koefisien dan nilai kanan pada SPL:')\n",
        "for i in range(n):\n",
        "    for j in range(n+1):\n",
        "        a[i][j] = float(input( 'a['+str(i)+']['+ str(j)+']='))\n",
        "for i in range(n):\n",
        "    if a[i][i] == 0.0: \n",
        "        sys.exit('Terdapat nilai 0 pada diagonal utama') #tidak boleh ada nilai 0 pada diagonal utama\n",
        "         \n",
        "    for j in range(i+1, n):\n",
        "        ratio = a[j][i]/a[i][i] #mencari ratio\n",
        "         \n",
        "        for k in range(n+1):\n",
        "            a[j][k] = a[j][k] - ratio * a[i][k] \n",
        "            \n",
        "x[n-1] = a[n-1][n]/a[n-1][n-1] #metode sulih\n",
        " \n",
        "for i in range(n-2,-1,-1):\n",
        "    x[i] = a[i][n]\n",
        "     \n",
        "    for j in range(i+1,n):\n",
        "        x[i] = x[i] - a[i][j]*x[j]\n",
        "     \n",
        "    x[i] = x[i]/a[i][i]\n",
        " \n",
        "print('\\nSolusi SPL adalah: ')\n",
        "for i in range(n):\n",
        "    print('X%d = %0.2f' %(i,x[i]), end = '\\t')"
      ],
      "metadata": {
        "colab": {
          "base_uri": "https://localhost:8080/"
        },
        "id": "MCUzd1e6a3Hy",
        "outputId": "a872b0e9-2eac-4273-8096-c8e1037cfb00"
      },
      "execution_count": 3,
      "outputs": [
        {
          "output_type": "stream",
          "name": "stdout",
          "text": [
            "Input jumlah variabel: 3\n",
            "Input koefisien dan nilai kanan pada SPL:\n",
            "a[0][0]=4\n",
            "a[0][1]=5\n",
            "a[0][2]=6\n",
            "a[0][3]=2\n",
            "a[1][0]=3\n",
            "a[1][1]=1\n",
            "a[1][2]=5\n",
            "a[1][3]=3\n",
            "a[2][0]=2\n",
            "a[2][1]=1\n",
            "a[2][2]=6\n",
            "a[2][3]=2\n",
            "\n",
            "Solusi SPL adalah: \n",
            "X0 = 1.07\tX1 = -0.53\tX2 = 0.07\t"
          ]
        }
      ]
    },
    {
      "cell_type": "markdown",
      "source": [
        "4. Metode Gauss Jordan"
      ],
      "metadata": {
        "id": "qXlVY31vbJha"
      }
    },
    {
      "cell_type": "code",
      "source": [
        "import numpy as np\n",
        "import sys\n",
        "\n",
        "n = int(input('Input jumlah variabel: '))\n",
        "a = np.zeros((n,n+1)) #memasukan nilai matriks\n",
        "x = np.zeros(n) #membuat matriks nol\n",
        "print('Input koefisien dan nilai kanan pada SPL:')\n",
        "for i in range(n):\n",
        "    for j in range(n+1):\n",
        "        a[i][j] = float(input( 'a['+str(i)+']['+ str(j)+']='))\n",
        "\n",
        "for i in range(n): #mencari nilai diagonal utama\n",
        "    if a[i][i] == 0.0:\n",
        "        sys.exit('Terdapat nilai 0 pada diagonal utama')\n",
        "        \n",
        "    for j in range(n):\n",
        "        if i != j:\n",
        "            ratio = a[j][i]/a[i][i]\n",
        "\n",
        "            for k in range(n+1):\n",
        "                a[j][k] = a[j][k] - ratio * a[i][k]\n",
        "\n",
        "for i in range(n):\n",
        "    x[i] = a[i][n]/a[i][i]\n",
        "\n",
        "print('\\nSolusi SPL adalah: ')\n",
        "for i in range(n):\n",
        "    print('X%d = %0.2f' %(i,x[i]), end = '\\t')"
      ],
      "metadata": {
        "colab": {
          "base_uri": "https://localhost:8080/"
        },
        "id": "7md1DE00bM1X",
        "outputId": "1bbb31bd-3c33-4b94-d30d-75976d5940df"
      },
      "execution_count": 6,
      "outputs": [
        {
          "output_type": "stream",
          "name": "stdout",
          "text": [
            "Input jumlah variabel: 3\n",
            "Input koefisien dan nilai kanan pada SPL:\n",
            "a[0][0]=3\n",
            "a[0][1]=-0.1\n",
            "a[0][2]=-0.2\n",
            "a[0][3]=7.85\n",
            "a[1][0]=0.1\n",
            "a[1][1]=7\n",
            "a[1][2]=-0.3\n",
            "a[1][3]=-19.3\n",
            "a[2][0]=0.3\n",
            "a[2][1]=-0.2\n",
            "a[2][2]=10\n",
            "a[2][3]=71.4\n",
            "\n",
            "Solusi SPL adalah: \n",
            "X0 = 3.00\tX1 = -2.50\tX2 = 7.00\t"
          ]
        }
      ]
    },
    {
      "cell_type": "markdown",
      "source": [
        "5. Dekomposisi LU"
      ],
      "metadata": {
        "id": "RxcOPOrObnAR"
      }
    },
    {
      "cell_type": "code",
      "source": [
        "import numpy as np\n",
        "import scipy.linalg\n",
        "A = np.array([[4, 3, -1],\n",
        "             [-2, -4, 5],\n",
        "             [1, 2, 6]])\n",
        "P, L, U = scipy.linalg.lu(A)\n",
        "print(L)\n",
        "print(U)"
      ],
      "metadata": {
        "colab": {
          "base_uri": "https://localhost:8080/"
        },
        "id": "PPxtA5CHbtat",
        "outputId": "d3928eb0-62c5-4b3a-d0fe-bcae14a7e8ca"
      },
      "execution_count": 7,
      "outputs": [
        {
          "output_type": "stream",
          "name": "stdout",
          "text": [
            "[[ 1.    0.    0.  ]\n",
            " [-0.5   1.    0.  ]\n",
            " [ 0.25 -0.5   1.  ]]\n",
            "[[ 4.   3.  -1. ]\n",
            " [ 0.  -2.5  4.5]\n",
            " [ 0.   0.   8.5]]\n"
          ]
        }
      ]
    }
  ]
}