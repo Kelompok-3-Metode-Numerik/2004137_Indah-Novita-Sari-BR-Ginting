{
  "nbformat": 4,
  "nbformat_minor": 0,
  "metadata": {
    "colab": {
      "provenance": []
    },
    "kernelspec": {
      "name": "python3",
      "display_name": "Python 3"
    },
    "language_info": {
      "name": "python"
    }
  },
  "cells": [
    {
      "cell_type": "markdown",
      "source": [
        "**Interpolasi**\n",
        "\n",
        "2004137\n",
        "Indah Novita Sari BR Ginting"
      ],
      "metadata": {
        "id": "MxBqfXQucjZ3"
      }
    },
    {
      "cell_type": "markdown",
      "source": [
        "1. Lagrange"
      ],
      "metadata": {
        "id": "wVv6JHH0ctUf"
      }
    },
    {
      "cell_type": "code",
      "execution_count": 2,
      "metadata": {
        "colab": {
          "base_uri": "https://localhost:8080/"
        },
        "id": "TrjM44d8ca6b",
        "outputId": "02fbb695-c52a-4d42-da51-c62ff496a939"
      },
      "outputs": [
        {
          "output_type": "stream",
          "name": "stdout",
          "text": [
            "Enter number of data points: 2\n",
            "Enter data for x and y: \n",
            "x[0]=2\n",
            "y[0]=1\n",
            "x[1]=1\n",
            "y[1]=4\n",
            "Enter interpolation point: 3\n",
            "Interpolated value at 3.000 is -2.000.\n"
          ]
        }
      ],
      "source": [
        "#Mengimport library \n",
        "import numpy as np\n",
        "\n",
        "#Menginput jumlah titik yang diketahui\n",
        "n = int(input('Enter number of data points: '))\n",
        "\n",
        "#Membuat matriks nxn\n",
        "x = np.zeros((n))\n",
        "y = np.zeros((n))\n",
        "\n",
        "#Memasukan koefisien dan hasil\n",
        "# Reading data points\n",
        "print('Enter data for x and y: ')\n",
        "for i in range(n):\n",
        "    x[i] = float(input( 'x['+str(i)+']='))\n",
        "    y[i] = float(input( 'y['+str(i)+']='))\n",
        "\n",
        "#Mencari titik \n",
        "xp = float(input('Enter interpolation point: '))\n",
        "\n",
        "yp = 0\n",
        "\n",
        "#Implementasi\n",
        "for i in range(n):\n",
        "    \n",
        "    p = 1\n",
        "\n",
        "    for j in range(n):\n",
        "        if i != j:\n",
        "            p = p * (xp - x[j])/(x[i] - x[j])\n",
        "    \n",
        "    yp = yp + p * y[i]    \n",
        "1\n",
        "print('Interpolated value at %.3f is %.3f.' % (xp, yp))\n",
        "    "
      ]
    },
    {
      "cell_type": "markdown",
      "source": [
        "2. Polinom Newton"
      ],
      "metadata": {
        "id": "BgfhHwoZdmSY"
      }
    },
    {
      "cell_type": "code",
      "source": [
        "import numpy as np\n",
        "#Memasukan berapa banyak titik yang diketahui\n",
        "n = int(input('Enter number of data points: '))\n",
        "\n",
        "#Membuat array \n",
        "x = np.zeros((n))\n",
        "y = np.zeros((n,n))\n",
        "\n",
        "\n",
        "#Membaca data\n",
        "print('Enter data for x and y: ')\n",
        "for i in range(n):\n",
        "    x[i] = float(input( 'x['+str(i)+']='))\n",
        "    y[i][0] = float(input( 'y['+str(i)+']='))\n",
        "    \n",
        "#Membuat tabel\n",
        "for i in range(1,n):\n",
        "    for j in range(0,n-i):\n",
        "        y[j][i] = (y[j+1][i-1] - y[j][i-1])\n",
        "\n",
        "        \n",
        "print('\\nKonversi ke tabel\\n');\n",
        "\n",
        "for i in range(0,n):\n",
        "    print('%f' %(x[i]), end='')\n",
        "    for j in range(0, n-i):\n",
        "        print('\\t\\t%f' %(y[i][j]), end='')\n",
        "    print()"
      ],
      "metadata": {
        "colab": {
          "base_uri": "https://localhost:8080/"
        },
        "id": "wfQ40qRRdoyS",
        "outputId": "27226ba4-950a-4452-ad75-a40f0004fe98"
      },
      "execution_count": 6,
      "outputs": [
        {
          "output_type": "stream",
          "name": "stdout",
          "text": [
            "Enter number of data points: 2\n",
            "Enter data for x and y: \n",
            "x[0]=3\n",
            "y[0]=4\n",
            "x[1]=6\n",
            "y[1]=7\n",
            "\n",
            "Konversi ke tabel\n",
            "\n",
            "3.000000\t\t4.000000\t\t3.000000\n",
            "6.000000\t\t7.000000\n"
          ]
        }
      ]
    }
  ]
}