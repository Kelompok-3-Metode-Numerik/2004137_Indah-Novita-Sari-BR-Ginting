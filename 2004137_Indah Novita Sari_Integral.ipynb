{
  "nbformat": 4,
  "nbformat_minor": 0,
  "metadata": {
    "colab": {
      "provenance": []
    },
    "kernelspec": {
      "name": "python3",
      "display_name": "Python 3"
    },
    "language_info": {
      "name": "python"
    }
  },
  "cells": [
    {
      "cell_type": "markdown",
      "source": [
        "**Integral**\n",
        "\n",
        "2004137\n",
        "Indah Novita Sari BR Ginting"
      ],
      "metadata": {
        "id": "Rt7E1xA6ivGd"
      }
    },
    {
      "cell_type": "markdown",
      "source": [
        "Metode Trapesium/Trapezoidal"
      ],
      "metadata": {
        "id": "JbreZiqWi277"
      }
    },
    {
      "cell_type": "code",
      "execution_count": 2,
      "metadata": {
        "colab": {
          "base_uri": "https://localhost:8080/",
          "height": 338
        },
        "id": "bseQuQPkisHZ",
        "outputId": "b9b1ab10-5b03-4423-b955-36d09eb3ea61"
      },
      "outputs": [
        {
          "output_type": "stream",
          "name": "stdout",
          "text": [
            "Masukan batas bawah : 0\n",
            "Masukan batas atas : 4\n",
            "Masukan sub-interval: 4\n",
            "Hasil Integral dengan Trapezoidal: 0.669\n"
          ]
        },
        {
          "output_type": "display_data",
          "data": {
            "text/plain": [
              "<Figure size 432x288 with 1 Axes>"
            ],
            "image/png": "[encoded data removed]"
          },
          "metadata": {
            "needs_background": "light"
          }
        }
      ],
      "source": [
        "#Import library\n",
        "import numpy as np\n",
        "import matplotlib.pyplot as plt\n",
        "\n",
        "#Mendefinisikan fungsi\n",
        "def f(x):\n",
        "  return 1/(3+x**2) \n",
        " \n",
        "\n",
        "#Implementasi Trapesium\n",
        "def trapezoidal(x0,xn,n):\n",
        "  #Menghitung delta x (panjang satu pias)\n",
        "  h=(xn-x0)/n\n",
        "  #Mencari jumlah\n",
        "  integral=f(x0)+f(xn)\n",
        "  #Melakukan perulangan \n",
        "  for i in range(1,n):\n",
        "    k=x0+i*h\n",
        "    integral=integral+2*f(k)\n",
        "  \n",
        "  #Mencari hasil integral\n",
        "  integral=integral*h/2\n",
        "  return integral\n",
        "\n",
        "#Input data\n",
        "lower_limit = float(input(\"Masukan batas bawah : \"))\n",
        "upper_limit = float(input(\"Masukan batas atas : \"))\n",
        "sub_interval = int(input(\"Masukan sub-interval: \"))\n",
        "\n",
        "#Cetak hasil\n",
        "result = trapezoidal(lower_limit, upper_limit, sub_interval)\n",
        "print(\"Hasil Integral dengan Trapezoidal: %0.3f\" % (result) )\n",
        "\n",
        "#Menggambar Grafik Kurva\n",
        "x=np.linspace(lower_limit,upper_limit,sub_interval+1)\n",
        "xp=np.linspace(lower_limit,upper_limit,1000)\n",
        "plt.plot(xp,f(xp))\n",
        "for i in range(sub_interval+1):\n",
        "  plt.bar(x[i], f(x[i]), width=0.0001, color='yellow', edgecolor='black')\n",
        "\n",
        "plt.fill_between(x,f(x), color='blue')\n",
        "plt.show()"
      ]
    },
    {
      "cell_type": "markdown",
      "source": [
        "Metode Simpson's 1/3"
      ],
      "metadata": {
        "id": "GgR8Z3eHj-4z"
      }
    },
    {
      "cell_type": "code",
      "source": [
        "#Fungsi\n",
        "def f(x):\n",
        "  return 1/(1+x**2)\n",
        "\n",
        "#Implementasi Simpson's 1/3\n",
        "def simpson13(x0,xn,n):\n",
        "  #Menghitung step size\n",
        "  h=(xn-x0)/n\n",
        "  #Menghitung jumlah\n",
        "  integration=f(x0)+f(xn)\n",
        "  for i in range(1,n):\n",
        "    k=x0+i*h\n",
        "    if i%2==0:\n",
        "      integration=integration+2*f(k)\n",
        "    else:\n",
        "      integration=integration+4*f(k)\n",
        "  #mencari final nilai integral\n",
        "  integration=integration*h/3\n",
        "  return integration\n",
        "\n",
        "#Input data\n",
        "lower_limit = float(input(\"Masukan nilai limit bawah integral: \"))\n",
        "upper_limit = float(input(\"Masukan nilai limit atas integral: \"))\n",
        "sub_interval = int(input(\"Masukan nilai sub-interval: \"))\n",
        "\n",
        "#Menampilkan hasil\n",
        "result=simpson13(lower_limit, upper_limit, sub_interval)\n",
        "print(\"Hasil Integral dengan Metode Simpson's 1/3: %0.5f\"%(result))"
      ],
      "metadata": {
        "colab": {
          "base_uri": "https://localhost:8080/"
        },
        "id": "MGUzPItZkEPg",
        "outputId": "b908468d-e266-4312-966f-e6b2e94ace65"
      },
      "execution_count": 3,
      "outputs": [
        {
          "output_type": "stream",
          "name": "stdout",
          "text": [
            "Masukan nilai limit bawah integral: 2\n",
            "Masukan nilai limit atas integral: 4\n",
            "Masukan nilai sub-interval: 5\n",
            "Hasil Integral dengan Metode Simpson's 1/3: 0.21012\n"
          ]
        }
      ]
    },
    {
      "cell_type": "markdown",
      "source": [
        "Metode Simpson's 3/8"
      ],
      "metadata": {
        "id": "05LUuU6UkjJx"
      }
    },
    {
      "cell_type": "code",
      "source": [
        "#Import library\n",
        "import numpy as np \n",
        "\n",
        "#Mendefinisikan fungsi\n",
        "def f(x): \n",
        "  return 1/(1+x**2)\n",
        "\n",
        "#Implementasi simpson 3/8\n",
        "def simpson38(x0,xn,n): \n",
        "  h=(xn-x0)/n\n",
        "  #Mencari jumlah\n",
        "  integration=f(x0)+f(xn)\n",
        "  for i in range(1,n): \n",
        "    k=x0+i*h \n",
        "    if i%2 == 0: \n",
        "      integration=integration+2*f(k)\n",
        "    else:\n",
        "      integration=integration+3*f(k)\n",
        "\n",
        "  integration=integration*3*h/8 #mencari hasil integral\n",
        "  return integration\n",
        "\n",
        "#Input data\n",
        "lower_limit = float(input(\"Masukan nilai limit bawah integral: \"))\n",
        "upper_limit = float(input(\"Masukan nilai limit atas integral: \"))\n",
        "sub_interval = int(input(\"Masukan nilai sub integral: \"))\n",
        "\n",
        "#Menampilkan hasil\n",
        "result=simpson38(lower_limit, upper_limit, sub_interval)\n",
        "print(\"Hasil Integral dengan Metode Simpson's 3/8: %0.4f\"%(result))"
      ],
      "metadata": {
        "colab": {
          "base_uri": "https://localhost:8080/"
        },
        "id": "WTaLePiFkmTo",
        "outputId": "9a161270-dc6b-4735-ea64-a2ccd954a166"
      },
      "execution_count": 4,
      "outputs": [
        {
          "output_type": "stream",
          "name": "stdout",
          "text": [
            "Masukan nilai limit bawah integral: 0\n",
            "Masukan nilai limit atas integral: 3\n",
            "Masukan nilai sub integral: 2\n",
            "Hasil Integral dengan Metode Simpson's 3/8: 1.1380\n"
          ]
        }
      ]
    }
  ]
}